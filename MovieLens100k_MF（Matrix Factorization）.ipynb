{
  "nbformat": 4,
  "nbformat_minor": 0,
  "metadata": {
    "colab": {
      "name": "MovieLens100k_MF.ipynb",
      "provenance": [],
      "collapsed_sections": [],
      "include_colab_link": true
    },
    "kernelspec": {
      "name": "python3",
      "display_name": "Python 3"
    }
  },
  "cells": [
    {
      "cell_type": "markdown",
      "metadata": {
        "id": "view-in-github",
        "colab_type": "text"
      },
      "source": [
        "<a href=\"https://colab.research.google.com/github/takky0330/Colab/blob/main/MovieLens100k_MF%EF%BC%88Matrix%20Factorization%EF%BC%89.ipynb\" target=\"_parent\"><img src=\"https://colab.research.google.com/assets/colab-badge.svg\" alt=\"Open In Colab\"/></a>"
      ]
    },
    {
      "cell_type": "markdown",
      "metadata": {
        "id": "RUbwdIAtYMkp"
      },
      "source": [
        "### Matrix Factorizationを用いたレコメンド\n",
        "今回はMovieLens100kを用いて実験。   \n",
        "評価指標はRecall@10\n"
      ]
    },
    {
      "cell_type": "code",
      "metadata": {
        "id": "-f3awDhrYKC-"
      },
      "source": [
        "from time import time\n",
        "import numpy as np\n",
        "import pandas as pd\n",
        "from scipy import sparse\n",
        "from tqdm import tqdm"
      ],
      "execution_count": 1,
      "outputs": []
    },
    {
      "cell_type": "markdown",
      "metadata": {
        "id": "HqEWZX59Yjuc"
      },
      "source": [
        "#### データセットの内容確認"
      ]
    },
    {
      "cell_type": "code",
      "metadata": {
        "id": "09HBLEG7YKIR",
        "colab": {
          "base_uri": "https://localhost:8080/",
          "height": 204
        },
        "outputId": "16b20937-83dc-48ba-94f0-c18ec0805be3"
      },
      "source": [
        "u_data_org = pd.read_csv(\n",
        "   'http://files.grouplens.org/datasets/movielens/ml-100k/u.data', names=[\"user_id\", \"item_id\", \"rating\", \"timestamp\"], sep=\"\\t\")\n",
        "u_data_org.head()"
      ],
      "execution_count": 2,
      "outputs": [
        {
          "output_type": "execute_result",
          "data": {
            "text/html": [
              "<div>\n",
              "<style scoped>\n",
              "    .dataframe tbody tr th:only-of-type {\n",
              "        vertical-align: middle;\n",
              "    }\n",
              "\n",
              "    .dataframe tbody tr th {\n",
              "        vertical-align: top;\n",
              "    }\n",
              "\n",
              "    .dataframe thead th {\n",
              "        text-align: right;\n",
              "    }\n",
              "</style>\n",
              "<table border=\"1\" class=\"dataframe\">\n",
              "  <thead>\n",
              "    <tr style=\"text-align: right;\">\n",
              "      <th></th>\n",
              "      <th>user_id</th>\n",
              "      <th>item_id</th>\n",
              "      <th>rating</th>\n",
              "      <th>timestamp</th>\n",
              "    </tr>\n",
              "  </thead>\n",
              "  <tbody>\n",
              "    <tr>\n",
              "    <tr>\n",
              "      <th>4</th>\n",
              "      <td>166</td>\n",
              "      <td>346</td>\n",
              "      <td>1</td>\n",
              "      <td>886397596</td>\n",
              "    </tr>\n",
              "  </tbody>\n",
              "</table>\n",
              "</div>"
            ],
            "text/plain": [
              "   user_id  item_id  rating  timestamp\n",
              "0      196      242       3  881250949\n",
              "1      186      302       3  891717742\n",
              "2       22      377       1  878887116\n",
              "3      244       51       2  880606923\n",
              "4      166      346       1  886397596"
            ]
          },
          "metadata": {},
          "execution_count": 2
        }
      ]
    },
    {
      "cell_type": "markdown",
      "metadata": {
        "id": "6TYrAvvxiSzk"
      },
      "source": [
        "#### 学習用・テスト用データの取り込み"
      ]
    },
    {
      "cell_type": "code",
      "metadata": {
        "id": "IDCmDLr-YKOR",
        "colab": {
          "base_uri": "https://localhost:8080/"
        },
        "outputId": "820078b0-4290-4965-c090-1813372472f4"
      },
      "source": [
        "# ユーザ×評価値のデータ\n",
        "u_data_train = pd.read_csv(\n",
        "   'http://files.grouplens.org/datasets/movielens/ml-100k/ua.base', names=[\"user_id\", \"item_id\", \"rating\", \"timestamp\"], sep=\"\\t\")\n",
        "u_data_test = pd.read_csv(\n",
        "   'http://files.grouplens.org/datasets/movielens/ml-100k/ua.test', names=[\"user_id\", \"item_id\", \"rating\", \"timestamp\"], sep=\"\\t\")\n",
        "\n",
        "# 件数の確認\n",
        "train_cnt = u_data_train.count()\n",
        "test_cnt = u_data_test.count()\n",
        "print('Train Set:', str(train_cnt), '\\n')\n",
        "print('Test Set:', str(test_cnt))"
      ],
      "execution_count": 3,
      "outputs": [
        {
          "output_type": "stream",
          "name": "stdout",
          "text": [
            "Train Set: user_id      90570\n",
            "item_id      90570\n",
            "rating       90570\n",
            "timestamp    90570\n",
            "dtype: int64 \n",
            "\n",
            "Test Set: user_id      9430\n",
            "item_id      9430\n",
            "rating       9430\n",
            "timestamp    9430\n",
            "dtype: int64\n"
          ]
        }
      ]
    },
    {
      "cell_type": "markdown",
      "metadata": {
        "id": "-9o9T64RiYnd"
      },
      "source": [
        "#### データをitem_id × user_idの行列へ整形\n",
        "Qiitaの記事に従うとuser × itemが良いのですが以前から使っているのがitem_id × user_idなのでその形にしてあります。"
      ]
    },
    {
      "cell_type": "code",
      "metadata": {
        "id": "XNR-99AwgYKc",
        "colab": {
          "base_uri": "https://localhost:8080/"
        },
        "outputId": "830ecc19-5762-4904-ce75-71cf5e6ad1a6"
      },
      "source": [
        "# item_id x user_idの行列に変換する\n",
        "item_list = u_data_org.sort_values('item_id').item_id.unique()\n",
        "user_list = u_data_org.user_id.unique()\n",
        "rating_matrix_item = np.zeros([len(item_list), len(user_list)])\n",
        "\n",
        "for item_id in tqdm(range(1, len(item_list))):\n",
        "    user_list_item = u_data_train[u_data_train['item_id'] == item_id].sort_values('user_id').user_id.unique()\n",
        "    for user_id in user_list_item:\n",
        "        try:\n",
        "            user_rate = u_data_train[(u_data_train['item_id'] == item_id) & (u_data_train['user_id'] == user_id)].loc[:, 'rating']\n",
        "        except:\n",
        "            user_rate = 0\n",
        "        rating_matrix_item[item_id-1, user_id-1] = user_rate\n"
      ],
      "execution_count": 6,
      "outputs": [
        {
          "output_type": "stream",
          "name": "stderr",
          "text": [
            "100%|██████████| 1681/1681 [02:28<00:00, 11.29it/s] \n"
          ]
        }
      ]
    },
    {
      "cell_type": "code",
      "metadata": {
        "id": "DEoQ5XHVgYNj",
        "colab": {
          "base_uri": "https://localhost:8080/"
        },
        "outputId": "c35e24af-8540-4789-a9fd-0d6e7614efd6"
      },
      "source": [
        "rating_matrix_item.shape"
      ],
      "execution_count": 11,
      "outputs": [
        {
          "output_type": "execute_result",
          "data": {
            "text/plain": [
              "(1682, 943)"
            ]
          },
          "metadata": {},
          "execution_count": 11
        }
      ]
    },
    {
      "cell_type": "code",
      "metadata": {
        "id": "-P540wPXnZIR"
      },
      "source": [
        "# 本当はこんなオブジェクト使わなくてもいけると思うのですがいいやり方が浮かばず…。いい方法あれば教えてください。\n",
        "\n",
        "# item x userの評価したかどうか{0, 1}がわかる行列作成\n",
        "rating_matrix_calc = rating_matrix_item.copy()\n",
        "rating_matrix_calc[rating_matrix_calc != 0] = 1\n",
        "# 評価していないアイテムに1が立つ行列を作成。後で使う\n",
        "rating_matrix_train = np.abs(rating_matrix_calc - 1)"
      ],
      "execution_count": 12,
      "outputs": []
    },
    {
      "cell_type": "markdown",
      "metadata": {
        "id": "FWa-bvV0mWRs"
      },
      "source": [
        "### Matrix Factorization\n",
        "ここからいよいよ行列分解していきます。"
      ]
    },
    {
      "cell_type": "code",
      "metadata": {
        "id": "odshD5W3gYRU"
      },
      "source": [
        "class MatrixFactorization():\n",
        "  def __init__(self, R, X, Y, k, steps=200, alpha=0.01, lamda=0.001, threshold=0.001):\n",
        "    self.R = R\n",
        "    self.m = R.shape[0]\n",
        "    self.n = R.shape[1]\n",
        "    self.k = k\n",
        "    # initializa U and V\n",
        "    self.U = np.random.rand(self.m, self.k)\n",
        "    self.V = np.random.rand(self.k, self.n)\n",
        "    self.alpha = alpha\n",
        "    self.lamda = lamda\n",
        "    self.threshold = threshold\n",
        "    self.steps = steps\n",
        "    self.info_step = 1\n",
        "\n",
        "    # preserve user_id list and item_id list\n",
        "    self.X = X\n",
        "    self.Y = Y\n",
        "\n",
        "  def shuffle_in_unison_scary(self, a, b):\n",
        "    rng_state = np.random.get_state()\n",
        "    np.random.shuffle(a)\n",
        "    np.random.set_state(rng_state)\n",
        "    np.random.shuffle(b)\n",
        "\n",
        "  def fit(self):\n",
        "    for step in range(self.steps):\n",
        "      start_time = time()\n",
        "      error = 0\n",
        "      # shuffle the order of the entry\n",
        "      self.shuffle_in_unison_scary(self.X,self.Y)\n",
        "\n",
        "      # update U and V\n",
        "      for i in self.X:\n",
        "        for j in self.Y:\n",
        "          r_ij = self.R[i-1,j-1]\n",
        "          if r_ij > 0:\n",
        "            err_ij = r_ij - np.dot(self.U[i-1,:], self.V[:,j-1])\n",
        "            for q in range(self.k):\n",
        "              self.U[i-1,q] += self.alpha * (err_ij * self.V[q, j-1] + self.lamda * self.U[i-1, q])\n",
        "              self.V[q, j-1] += self.alpha * (err_ij * self.U[i-1, q] + self.lamda * self.V[q, j-1])\n",
        "\n",
        "      # approximation\n",
        "      R_hat = np.dot(self.U, self.V)\n",
        "      # calculate estimation error for observed values\n",
        "      for i in self.X:\n",
        "        for j in self.Y:\n",
        "          r_ij = self.R[i-1, j-1]\n",
        "          r_hat_ij = R_hat[i-1, j-1]\n",
        "          if r_ij > 0:\n",
        "            error += pow(r_ij - r_hat_ij,2)\n",
        "      # regularization\n",
        "      error += (self.lamda * np.power(self.U,2).sum()) / 2\n",
        "      error += (self.lamda * np.power(self.V,2).sum()) / 2\n",
        "\n",
        "      if step % self.info_step == 0 and step != 0:\n",
        "        print('Step: %d / Error: %3f [%.1f sec]'%(step, error, time()-start_time))\n",
        "\n",
        "      if error < self.threshold:\n",
        "        break\n",
        "    return self.U, self.V\n"
      ],
      "execution_count": 13,
      "outputs": []
    },
    {
      "cell_type": "code",
      "metadata": {
        "id": "lgHWQ-7QmVko"
      },
      "source": [
        "X = u_data_org.item_id.unique()\n",
        "Y = u_data_org.user_id.unique()\n",
        "k = 20\n",
        "steps = 150\n",
        "\n",
        "mf = MatrixFactorization(rating_matrix_item, X, Y, k, steps)"
      ],
      "execution_count": 14,
      "outputs": []
    },
    {
      "cell_type": "code",
      "metadata": {
        "id": "iH31JlU0mVnC"
      },
      "source": [
        "U, V = mf.fit()\n",
        "pred_rating = np.dot(U, V)"
      ],
      "execution_count": null,
      "outputs": []
    },
    {
      "cell_type": "code",
      "metadata": {
        "id": "aflR88Ypf03V",
        "colab": {
          "base_uri": "https://localhost:8080/"
        },
        "outputId": "ea7ba812-8762-4835-f4dc-79d30397df4c"
      },
      "source": [
        "pred_rating"
      ],
      "execution_count": 19,
      "outputs": [
        {
          "output_type": "execute_result",
          "data": {
            "text/plain": [
              "array([[3.98590287, 3.56559202, 2.36669315, ..., 4.6081928 , 4.15996914,\n",
              "        2.09074851],\n",
              "       [3.93110095, 3.97524066, 2.00733114, ..., 3.17426514, 3.4548574 ,\n",
              "        2.99509496],\n",
              "       [4.31964347, 3.83933666, 2.94335065, ..., 2.5281691 , 3.33860187,\n",
              "        0.23766795],\n",
              "       ...,\n",
              "       [4.31608793, 5.64012511, 3.13633536, ..., 3.74564034, 3.84568242,\n",
              "        6.13557168],\n",
              "       [5.35043158, 6.57456757, 2.94815603, ..., 3.72456979, 5.89629421,\n",
              "        6.2984602 ],\n",
              "       [5.68693954, 6.01020886, 5.7645435 , ..., 6.27332263, 6.26117799,\n",
              "        3.79260687]])"
            ]
          },
          "metadata": {},
          "execution_count": 19
        }
      ]
    },
    {
      "cell_type": "markdown",
      "metadata": {
        "id": "9iDKhcpEnK8X"
      },
      "source": [
        "### 予測評価値の計算・レコメンド"
      ]
    },
    {
      "cell_type": "code",
      "metadata": {
        "id": "iRKo2k18mVrA",
        "colab": {
          "base_uri": "https://localhost:8080/"
        },
        "outputId": "33f832e8-e6e2-403c-e8b6-cc61af9fee06"
      },
      "source": [
        "user_id = 1\n",
        "hits = 0\n",
        "\n",
        "# ユーザが既に評価したアイテムのスコアはゼロに直す\n",
        "rating_matrix_user = rating_matrix_item[:, user_id - 1]\n",
        "pred_rating_user_item = rating_matrix_user * rating_matrix_train[:,user_id - 1]\n",
        "\n",
        "#ここからレコメンドされたアイテムがどれだけあっていたかを評価していく\n",
        "recommend_list = np.argsort(pred_rating_user_item)[::-1][:10] + 1\n",
        "purchase_list_user = u_data_test[u_data_test.user_id == user_id].loc[:, 'item_id'].unique()\n",
        "for item_id in recommend_list:\n",
        "    if item_id in purchase_list_user:\n",
        "              hits += 1\n",
        "              pre = hits / 10.0\n",
        "\n",
        "              print(pred_rating_user_item)\n",
        "              print('Recommend list:', recommend_list)\n",
        "              print('Test Rated list:', purchase_list_user)\n",
        "              print('Precision:', str(pre))\n",
        "              hits += 1\n",
        "pre = hits / 10.0\n",
        "\n",
        "print(pred_rating_user_item)\n",
        "print('Recommend list:', recommend_list)\n",
        "print('Test Rated list:', purchase_list_user)\n",
        "print('Precision:', str(pre))"
      ],
      "execution_count": 32,
      "outputs": [
        {
          "output_type": "stream",
          "name": "stdout",
          "text": [
            "[0. 0. 0. ... 0. 0. 0.]\n",
            "Recommend list: [1682  578  554  555  556  557  558  559  560  561]\n",
            "Test Rated list: [ 20  33  61 117 155 160 171 189 202 265]\n",
            "Precision: 0.0\n"
          ]
        }
      ]
    },
    {
      "cell_type": "markdown",
      "metadata": {
        "id": "y2lZe0WmuXYW"
      },
      "source": [
        "#### 全体の精度評価"
      ]
    },
    {
      "cell_type": "code",
      "metadata": {
        "id": "go2TPWVfrJgm",
        "colab": {
          "base_uri": "https://localhost:8080/"
        },
        "outputId": "b62f61ea-2f36-4247-d545-a5cddac29840"
      },
      "source": [
        "# 予測評価値の計算\n",
        "precision_list = []\n",
        "recall_list = []\n",
        "user_list_test = u_data_test.sort_values('user_id').user_id.unique()\n",
        "\n",
        "for user_id in tqdm(user_list_test):\n",
        "    hits = 0\n",
        "    # ユーザが既に評価したアイテムのスコアはゼロに直す\n",
        "    pred_rating_user_item = rating_matrix_user * rating_matrix_train[:,user_id - 1]\n",
        "\n",
        "    #ここからレコメンドされたアイテムがどれだけあっていたかを評価していく\n",
        "    recommend_list = np.argsort(pred_rating_user_item)[::-1][:10] + 1\n",
        "    purchase_list_user = u_data_test[u_data_test.user_id == user_id].loc[:, 'item_id'].unique()\n",
        "    for item_id in recommend_list:\n",
        "        if item_id in purchase_list_user:\n",
        "            hits += 1\n",
        "    pre = hits / 10.0\n",
        "    precision_list.append(pre)\n"
      ],
      "execution_count": 17,
      "outputs": [
        {
          "output_type": "stream",
          "name": "stderr",
          "text": [
            "100%|██████████| 943/943 [00:00<00:00, 1144.07it/s]\n"
          ]
        }
      ]
    },
    {
      "cell_type": "code",
      "metadata": {
        "id": "eyBnn0rUrJnA",
        "colab": {
          "base_uri": "https://localhost:8080/"
        },
        "outputId": "b6af52b0-0f38-4a39-8db5-4cd053437299"
      },
      "source": [
        "# 全体の精度検証\n",
        "precision = sum(precision_list) / len(precision_list)\n",
        "print('Precision:', precision)"
      ],
      "execution_count": 18,
      "outputs": [
        {
          "output_type": "stream",
          "name": "stdout",
          "text": [
            "Precision: 0.05121951219512226\n"
          ]
        }
      ]
    },
    {
      "cell_type": "code",
      "metadata": {
        "id": "seYT0568eOch"
      },
      "source": [
        ""
      ],
      "execution_count": null,
      "outputs": []
    }
  ]
}
