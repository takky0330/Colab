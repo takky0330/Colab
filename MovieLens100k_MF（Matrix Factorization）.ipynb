{
  "nbformat": 4,
  "nbformat_minor": 0,
  "metadata": {
    "colab": {
      "name": "MovieLens100k_MF.ipynb",
      "provenance": [],
      "collapsed_sections": [],
      "include_colab_link": true
    },
    "kernelspec": {
      "name": "python3",
      "display_name": "Python 3"
    }
  },
  "cells": [
    {
      "cell_type": "markdown",
      "metadata": {
        "id": "view-in-github",
        "colab_type": "text"
      },
      "source": [
        "<a href=\"https://colab.research.google.com/github/takky0330/Colab/blob/main/MovieLens100k_MF%EF%BC%88Matrix%20Factorization%EF%BC%89.ipynb\" target=\"_parent\"><img src=\"https://colab.research.google.com/assets/colab-badge.svg\" alt=\"Open In Colab\"/></a>"
      ]
    },
    {
      "cell_type": "markdown",
      "metadata": {
        "id": "RUbwdIAtYMkp"
      },
      "source": [
        "### Matrix Factorizationを用いたレコメンド\n",
        "今回はMovieLens100kを用いて実験。   \n",
        "評価指標はRecall@10\n"
      ]
    },
    {
      "cell_type": "code",
      "metadata": {
        "id": "-f3awDhrYKC-"
      },
      "source": [
        "from time import time\n",
        "import numpy as np\n",
        "import pandas as pd\n",
        "from scipy import sparse\n",
        "from tqdm import tqdm"
      ],
      "execution_count": 1,
      "outputs": []
    },
    {
      "cell_type": "markdown",
      "metadata": {
        "id": "HqEWZX59Yjuc"
      },
      "source": [
        "#### データセットの内容確認"
      ]
    },
    {
      "cell_type": "code",
      "metadata": {
        "id": "09HBLEG7YKIR",
        "colab": {
          "base_uri": "https://localhost:8080/",
          "height": 204
        },
        "outputId": "16b20937-83dc-48ba-94f0-c18ec0805be3"
      },
      "source": [
        "u_data_org = pd.read_csv(\n",
        "   'http://files.grouplens.org/datasets/movielens/ml-100k/u.data', names=[\"user_id\", \"item_id\", \"rating\", \"timestamp\"], sep=\"\\t\")\n",
        "u_data_org.head()"
      ],
      "execution_count": 2,
      "outputs": [
        {
          "output_type": "execute_result",
          "data": {
            "text/html": [
              "<div>\n",
              "<style scoped>\n",
              "    .dataframe tbody tr th:only-of-type {\n",
              "        vertical-align: middle;\n",
              "    }\n",
              "\n",
              "    .dataframe tbody tr th {\n",
              "        vertical-align: top;\n",
              "    }\n",
              "\n",
              "    .dataframe thead th {\n",
              "        text-align: right;\n",
              "    }\n",
              "</style>\n",
              "<table border=\"1\" class=\"dataframe\">\n",
              "  <thead>\n",
              "    <tr style=\"text-align: right;\">\n",
              "      <th></th>\n",
              "      <th>user_id</th>\n",
              "      <th>item_id</th>\n",
              "      <th>rating</th>\n",
              "      <th>timestamp</th>\n",
              "    </tr>\n",
              "  </thead>\n",
              "  <tbody>\n",
              "    <tr>\n",
              "      <th>0</th>\n",
              "      <td>196</td>\n",
              "      <td>242</td>\n",
              "      <td>3</td>\n",
              "      <td>881250949</td>\n",
              "    </tr>\n",
              "    <tr>\n",
              "      <th>1</th>\n",
              "      <td>186</td>\n",
              "      <td>302</td>\n",
              "      <td>3</td>\n",
              "      <td>891717742</td>\n",
              "    </tr>\n",
              "    <tr>\n",
              "      <th>2</th>\n",
              "      <td>22</td>\n",
              "      <td>377</td>\n",
              "      <td>1</td>\n",
              "      <td>878887116</td>\n",
              "    </tr>\n",
              "    <tr>\n",
              "      <th>3</th>\n",
              "      <td>244</td>\n",
              "      <td>51</td>\n",
              "      <td>2</td>\n",
              "      <td>880606923</td>\n",
              "    </tr>\n",
              "    <tr>\n",
              "      <th>4</th>\n",
              "      <td>166</td>\n",
              "      <td>346</td>\n",
              "      <td>1</td>\n",
              "      <td>886397596</td>\n",
              "    </tr>\n",
              "  </tbody>\n",
              "</table>\n",
              "</div>"
            ],
            "text/plain": [
              "   user_id  item_id  rating  timestamp\n",
              "0      196      242       3  881250949\n",
              "1      186      302       3  891717742\n",
              "2       22      377       1  878887116\n",
              "3      244       51       2  880606923\n",
              "4      166      346       1  886397596"
            ]
          },
          "metadata": {},
          "execution_count": 2
        }
      ]
    },
    {
      "cell_type": "markdown",
      "metadata": {
        "id": "6TYrAvvxiSzk"
      },
      "source": [
        "#### 学習用・テスト用データの取り込み"
      ]
    },
    {
      "cell_type": "code",
      "metadata": {
        "id": "IDCmDLr-YKOR",
        "colab": {
          "base_uri": "https://localhost:8080/"
        },
        "outputId": "820078b0-4290-4965-c090-1813372472f4"
      },
      "source": [
        "# ユーザ×評価値のデータ\n",
        "u_data_train = pd.read_csv(\n",
        "   'http://files.grouplens.org/datasets/movielens/ml-100k/ua.base', names=[\"user_id\", \"item_id\", \"rating\", \"timestamp\"], sep=\"\\t\")\n",
        "u_data_test = pd.read_csv(\n",
        "   'http://files.grouplens.org/datasets/movielens/ml-100k/ua.test', names=[\"user_id\", \"item_id\", \"rating\", \"timestamp\"], sep=\"\\t\")\n",
        "\n",
        "# 件数の確認\n",
        "train_cnt = u_data_train.count()\n",
        "test_cnt = u_data_test.count()\n",
        "print('Train Set:', str(train_cnt), '\\n')\n",
        "print('Test Set:', str(test_cnt))"
      ],
      "execution_count": 3,
      "outputs": [
        {
          "output_type": "stream",
          "name": "stdout",
          "text": [
            "Train Set: user_id      90570\n",
            "item_id      90570\n",
            "rating       90570\n",
            "timestamp    90570\n",
            "dtype: int64 \n",
            "\n",
            "Test Set: user_id      9430\n",
            "item_id      9430\n",
            "rating       9430\n",
            "timestamp    9430\n",
            "dtype: int64\n"
          ]
        }
      ]
    },
    {
      "cell_type": "markdown",
      "metadata": {
        "id": "-9o9T64RiYnd"
      },
      "source": [
        "#### データをitem_id × user_idの行列へ整形\n",
        "Qiitaの記事に従うとuser × itemが良いのですが以前から使っているのがitem_id × user_idなのでその形にしてあります。"
      ]
    },
    {
      "cell_type": "code",
      "metadata": {
        "id": "XNR-99AwgYKc",
        "colab": {
          "base_uri": "https://localhost:8080/"
        },
        "outputId": "830ecc19-5762-4904-ce75-71cf5e6ad1a6"
      },
      "source": [
        "# item_id x user_idの行列に変換する\n",
        "item_list = u_data_org.sort_values('item_id').item_id.unique()\n",
        "user_list = u_data_org.user_id.unique()\n",
        "rating_matrix_item = np.zeros([len(item_list), len(user_list)])\n",
        "\n",
        "for item_id in tqdm(range(1, len(item_list))):\n",
        "    user_list_item = u_data_train[u_data_train['item_id'] == item_id].sort_values('user_id').user_id.unique()\n",
        "    for user_id in user_list_item:\n",
        "        try:\n",
        "            user_rate = u_data_train[(u_data_train['item_id'] == item_id) & (u_data_train['user_id'] == user_id)].loc[:, 'rating']\n",
        "        except:\n",
        "            user_rate = 0\n",
        "        rating_matrix_item[item_id-1, user_id-1] = user_rate\n"
      ],
      "execution_count": 6,
      "outputs": [
        {
          "output_type": "stream",
          "name": "stderr",
          "text": [
            "100%|██████████| 1681/1681 [02:28<00:00, 11.29it/s] \n"
          ]
        }
      ]
    },
    {
      "cell_type": "code",
      "metadata": {
        "id": "DEoQ5XHVgYNj",
        "colab": {
          "base_uri": "https://localhost:8080/"
        },
        "outputId": "c35e24af-8540-4789-a9fd-0d6e7614efd6"
      },
      "source": [
        "rating_matrix_item.shape"
      ],
      "execution_count": 11,
      "outputs": [
        {
          "output_type": "execute_result",
          "data": {
            "text/plain": [
              "(1682, 943)"
            ]
          },
          "metadata": {},
          "execution_count": 11
        }
      ]
    },
    {
      "cell_type": "code",
      "metadata": {
        "id": "-P540wPXnZIR"
      },
      "source": [
        "# 本当はこんなオブジェクト使わなくてもいけると思うのですがいいやり方が浮かばず…。いい方法あれば教えてください。\n",
        "\n",
        "# item x userの評価したかどうか{0, 1}がわかる行列作成\n",
        "rating_matrix_calc = rating_matrix_item.copy()\n",
        "rating_matrix_calc[rating_matrix_calc != 0] = 1\n",
        "# 評価していないアイテムに1が立つ行列を作成。後で使う\n",
        "rating_matrix_train = np.abs(rating_matrix_calc - 1)"
      ],
      "execution_count": 12,
      "outputs": []
    },
    {
      "cell_type": "markdown",
      "metadata": {
        "id": "FWa-bvV0mWRs"
      },
      "source": [
        "### Matrix Factorization\n",
        "ここからいよいよ行列分解していきます。"
      ]
    },
    {
      "cell_type": "code",
      "metadata": {
        "id": "odshD5W3gYRU"
      },
      "source": [
        "class MatrixFactorization():\n",
        "  def __init__(self, R, X, Y, k, steps=200, alpha=0.01, lamda=0.001, threshold=0.001):\n",
        "    self.R = R\n",
        "    self.m = R.shape[0]\n",
        "    self.n = R.shape[1]\n",
        "    self.k = k\n",
        "    # initializa U and V\n",
        "    self.U = np.random.rand(self.m, self.k)\n",
        "    self.V = np.random.rand(self.k, self.n)\n",
        "    self.alpha = alpha\n",
        "    self.lamda = lamda\n",
        "    self.threshold = threshold\n",
        "    self.steps = steps\n",
        "    self.info_step = 1\n",
        "\n",
        "    # preserve user_id list and item_id list\n",
        "    self.X = X\n",
        "    self.Y = Y\n",
        "\n",
        "  def shuffle_in_unison_scary(self, a, b):\n",
        "    rng_state = np.random.get_state()\n",
        "    np.random.shuffle(a)\n",
        "    np.random.set_state(rng_state)\n",
        "    np.random.shuffle(b)\n",
        "\n",
        "  def fit(self):\n",
        "    for step in range(self.steps):\n",
        "      start_time = time()\n",
        "      error = 0\n",
        "      # shuffle the order of the entry\n",
        "      self.shuffle_in_unison_scary(self.X,self.Y)\n",
        "\n",
        "      # update U and V\n",
        "      for i in self.X:\n",
        "        for j in self.Y:\n",
        "          r_ij = self.R[i-1,j-1]\n",
        "          if r_ij > 0:\n",
        "            err_ij = r_ij - np.dot(self.U[i-1,:], self.V[:,j-1])\n",
        "            for q in range(self.k):\n",
        "              self.U[i-1,q] += self.alpha * (err_ij * self.V[q, j-1] + self.lamda * self.U[i-1, q])\n",
        "              self.V[q, j-1] += self.alpha * (err_ij * self.U[i-1, q] + self.lamda * self.V[q, j-1])\n",
        "\n",
        "      # approximation\n",
        "      R_hat = np.dot(self.U, self.V)\n",
        "      # calculate estimation error for observed values\n",
        "      for i in self.X:\n",
        "        for j in self.Y:\n",
        "          r_ij = self.R[i-1, j-1]\n",
        "          r_hat_ij = R_hat[i-1, j-1]\n",
        "          if r_ij > 0:\n",
        "            error += pow(r_ij - r_hat_ij,2)\n",
        "      # regularization\n",
        "      error += (self.lamda * np.power(self.U,2).sum()) / 2\n",
        "      error += (self.lamda * np.power(self.V,2).sum()) / 2\n",
        "\n",
        "      if step % self.info_step == 0 and step != 0:\n",
        "        print('Step: %d / Error: %3f [%.1f sec]'%(step, error, time()-start_time))\n",
        "\n",
        "      if error < self.threshold:\n",
        "        break\n",
        "    return self.U, self.V\n"
      ],
      "execution_count": 13,
      "outputs": []
    },
    {
      "cell_type": "code",
      "metadata": {
        "id": "lgHWQ-7QmVko"
      },
      "source": [
        "X = u_data_org.item_id.unique()\n",
        "Y = u_data_org.user_id.unique()\n",
        "k = 20\n",
        "steps = 150\n",
        "\n",
        "mf = MatrixFactorization(rating_matrix_item, X, Y, k, steps)"
      ],
      "execution_count": 14,
      "outputs": []
    },
    {
      "cell_type": "code",
      "metadata": {
        "id": "iH31JlU0mVnC",
        "colab": {
          "base_uri": "https://localhost:8080/"
        },
        "outputId": "c275795b-20b5-4503-e6b0-d55ed026557d"
      },
      "source": [
        "U, V = mf.fit()\n",
        "pred_rating = np.dot(U, V)"
      ],
      "execution_count": 15,
      "outputs": [
        {
          "output_type": "stream",
          "name": "stdout",
          "text": [
            "Step: 1 / Error: 81932.169577 [18.3 sec]\n",
            "Step: 2 / Error: 75355.562054 [18.3 sec]\n",
            "Step: 3 / Error: 71588.133393 [18.7 sec]\n",
            "Step: 4 / Error: 68422.197722 [18.1 sec]\n",
            "Step: 5 / Error: 65655.669662 [18.4 sec]\n",
            "Step: 6 / Error: 62842.101029 [18.6 sec]\n",
            "Step: 7 / Error: 60230.145009 [18.5 sec]\n",
            "Step: 8 / Error: 57632.241290 [18.1 sec]\n",
            "Step: 9 / Error: 55439.978484 [18.6 sec]\n",
            "Step: 10 / Error: 53340.725107 [18.4 sec]\n",
            "Step: 11 / Error: 51515.475730 [18.8 sec]\n",
            "Step: 12 / Error: 49759.967052 [18.2 sec]\n",
            "Step: 13 / Error: 48238.102519 [18.4 sec]\n",
            "Step: 14 / Error: 46805.271866 [18.4 sec]\n",
            "Step: 15 / Error: 45734.980242 [18.4 sec]\n",
            "Step: 16 / Error: 44557.513367 [18.6 sec]\n",
            "Step: 17 / Error: 43471.439954 [18.7 sec]\n",
            "Step: 18 / Error: 42619.427478 [18.0 sec]\n",
            "Step: 19 / Error: 41835.881474 [17.9 sec]\n",
            "Step: 20 / Error: 41092.418643 [18.4 sec]\n",
            "Step: 21 / Error: 40258.507657 [18.1 sec]\n",
            "Step: 22 / Error: 39658.147374 [18.5 sec]\n",
            "Step: 23 / Error: 39183.699431 [18.5 sec]\n",
            "Step: 24 / Error: 38490.563065 [18.2 sec]\n",
            "Step: 25 / Error: 38060.664973 [18.2 sec]\n",
            "Step: 26 / Error: 37603.739274 [17.5 sec]\n",
            "Step: 27 / Error: 37049.318023 [18.3 sec]\n",
            "Step: 28 / Error: 36648.992318 [18.7 sec]\n",
            "Step: 29 / Error: 36379.579623 [18.8 sec]\n",
            "Step: 30 / Error: 35982.770382 [18.5 sec]\n",
            "Step: 31 / Error: 35723.589389 [18.3 sec]\n",
            "Step: 32 / Error: 35264.247600 [18.5 sec]\n",
            "Step: 33 / Error: 35014.778573 [18.4 sec]\n",
            "Step: 34 / Error: 34786.646513 [18.7 sec]\n",
            "Step: 35 / Error: 34462.954005 [18.3 sec]\n",
            "Step: 36 / Error: 34191.537423 [18.6 sec]\n",
            "Step: 37 / Error: 33953.875691 [18.3 sec]\n",
            "Step: 38 / Error: 33695.161097 [18.0 sec]\n",
            "Step: 39 / Error: 33506.490350 [18.3 sec]\n",
            "Step: 40 / Error: 33332.803718 [18.3 sec]\n",
            "Step: 41 / Error: 33096.231142 [18.7 sec]\n",
            "Step: 42 / Error: 32859.440027 [18.5 sec]\n",
            "Step: 43 / Error: 32578.708469 [17.9 sec]\n",
            "Step: 44 / Error: 32477.057302 [18.4 sec]\n",
            "Step: 45 / Error: 32356.380974 [18.6 sec]\n",
            "Step: 46 / Error: 32175.877101 [18.7 sec]\n",
            "Step: 47 / Error: 31916.953349 [18.4 sec]\n",
            "Step: 48 / Error: 31837.754845 [17.7 sec]\n",
            "Step: 49 / Error: 31719.423261 [18.5 sec]\n",
            "Step: 50 / Error: 31544.522191 [18.2 sec]\n",
            "Step: 51 / Error: 31483.315358 [18.6 sec]\n",
            "Step: 52 / Error: 31334.857704 [18.4 sec]\n",
            "Step: 53 / Error: 31235.206191 [18.2 sec]\n",
            "Step: 54 / Error: 31254.986028 [18.2 sec]\n",
            "Step: 55 / Error: 30945.740930 [18.6 sec]\n",
            "Step: 56 / Error: 30819.317210 [18.7 sec]\n",
            "Step: 57 / Error: 30739.975333 [18.2 sec]\n",
            "Step: 58 / Error: 30675.095816 [18.3 sec]\n",
            "Step: 59 / Error: 30617.721145 [18.3 sec]\n",
            "Step: 60 / Error: 30485.056057 [18.6 sec]\n",
            "Step: 61 / Error: 30389.688788 [18.5 sec]\n",
            "Step: 62 / Error: 30335.173056 [18.8 sec]\n",
            "Step: 63 / Error: 30241.654998 [18.6 sec]\n",
            "Step: 64 / Error: 30130.026984 [18.6 sec]\n",
            "Step: 65 / Error: 30052.373134 [18.6 sec]\n",
            "Step: 66 / Error: 29933.517114 [18.2 sec]\n",
            "Step: 67 / Error: 29898.563573 [18.7 sec]\n",
            "Step: 68 / Error: 29781.897895 [18.0 sec]\n",
            "Step: 69 / Error: 29761.144686 [18.7 sec]\n",
            "Step: 70 / Error: 29608.653269 [18.4 sec]\n",
            "Step: 71 / Error: 29516.760843 [18.6 sec]\n",
            "Step: 72 / Error: 29483.379418 [18.5 sec]\n",
            "Step: 73 / Error: 29437.540278 [18.6 sec]\n",
            "Step: 74 / Error: 29346.085930 [18.3 sec]\n",
            "Step: 75 / Error: 29300.630083 [18.2 sec]\n",
            "Step: 76 / Error: 29223.566942 [18.4 sec]\n",
            "Step: 77 / Error: 29220.981525 [18.7 sec]\n",
            "Step: 78 / Error: 29067.963725 [18.5 sec]\n",
            "Step: 79 / Error: 29073.616921 [18.3 sec]\n",
            "Step: 80 / Error: 29024.079512 [18.9 sec]\n",
            "Step: 81 / Error: 29020.051079 [18.7 sec]\n",
            "Step: 82 / Error: 28940.843919 [18.2 sec]\n",
            "Step: 83 / Error: 28785.227195 [18.5 sec]\n",
            "Step: 84 / Error: 28752.207527 [17.9 sec]\n",
            "Step: 85 / Error: 28830.407040 [17.8 sec]\n",
            "Step: 86 / Error: 28661.629159 [18.2 sec]\n",
            "Step: 87 / Error: 28660.504958 [18.6 sec]\n",
            "Step: 88 / Error: 28614.515902 [18.1 sec]\n",
            "Step: 89 / Error: 28600.568409 [18.4 sec]\n",
            "Step: 90 / Error: 28614.971354 [18.1 sec]\n",
            "Step: 91 / Error: 28489.423830 [18.4 sec]\n",
            "Step: 92 / Error: 28466.910713 [18.2 sec]\n",
            "Step: 93 / Error: 28369.216366 [18.5 sec]\n",
            "Step: 94 / Error: 28387.292815 [18.0 sec]\n",
            "Step: 95 / Error: 28314.870091 [18.4 sec]\n",
            "Step: 96 / Error: 28306.638092 [18.4 sec]\n",
            "Step: 97 / Error: 28277.749347 [18.1 sec]\n",
            "Step: 98 / Error: 28310.461184 [18.6 sec]\n",
            "Step: 99 / Error: 28198.277161 [18.3 sec]\n",
            "Step: 100 / Error: 28157.320903 [18.1 sec]\n",
            "Step: 101 / Error: 28116.560033 [18.0 sec]\n",
            "Step: 102 / Error: 28137.499502 [18.3 sec]\n",
            "Step: 103 / Error: 28024.875157 [18.2 sec]\n",
            "Step: 104 / Error: 28037.750001 [18.2 sec]\n",
            "Step: 105 / Error: 27991.777557 [18.6 sec]\n",
            "Step: 106 / Error: 27918.948382 [18.0 sec]\n",
            "Step: 107 / Error: 27918.898249 [18.3 sec]\n",
            "Step: 108 / Error: 28019.230692 [17.8 sec]\n",
            "Step: 109 / Error: 27836.679940 [18.4 sec]\n",
            "Step: 110 / Error: 27841.559516 [18.2 sec]\n",
            "Step: 111 / Error: 27734.572650 [18.6 sec]\n",
            "Step: 112 / Error: 27740.451317 [18.5 sec]\n",
            "Step: 113 / Error: 27769.075523 [18.3 sec]\n",
            "Step: 114 / Error: 27780.184722 [17.9 sec]\n",
            "Step: 115 / Error: 27720.259882 [17.9 sec]\n",
            "Step: 116 / Error: 27712.314294 [19.1 sec]\n",
            "Step: 117 / Error: 27658.971635 [18.3 sec]\n",
            "Step: 118 / Error: 27639.484164 [18.3 sec]\n",
            "Step: 119 / Error: 27638.512494 [18.0 sec]\n",
            "Step: 120 / Error: 27717.101577 [18.4 sec]\n",
            "Step: 121 / Error: 27512.806998 [18.5 sec]\n",
            "Step: 122 / Error: 27535.629210 [18.5 sec]\n",
            "Step: 123 / Error: 27649.749670 [18.3 sec]\n",
            "Step: 124 / Error: 27517.843955 [17.9 sec]\n",
            "Step: 125 / Error: 27458.806373 [18.4 sec]\n",
            "Step: 126 / Error: 27509.993501 [18.7 sec]\n",
            "Step: 127 / Error: 27414.655990 [18.4 sec]\n",
            "Step: 128 / Error: 27447.703196 [18.2 sec]\n",
            "Step: 129 / Error: 27346.489705 [18.3 sec]\n",
            "Step: 130 / Error: 27319.289165 [18.4 sec]\n",
            "Step: 131 / Error: 27293.195039 [18.5 sec]\n",
            "Step: 132 / Error: 27422.505393 [18.3 sec]\n",
            "Step: 133 / Error: 27343.917023 [18.6 sec]\n",
            "Step: 134 / Error: 27383.968431 [18.6 sec]\n",
            "Step: 135 / Error: 27375.011512 [18.3 sec]\n",
            "Step: 136 / Error: 27259.905377 [18.4 sec]\n",
            "Step: 137 / Error: 27267.794641 [18.1 sec]\n",
            "Step: 138 / Error: 27291.052848 [17.8 sec]\n",
            "Step: 139 / Error: 27313.125759 [18.5 sec]\n",
            "Step: 140 / Error: 27311.800973 [18.4 sec]\n",
            "Step: 141 / Error: 27284.913275 [18.2 sec]\n",
            "Step: 142 / Error: 27242.389059 [18.2 sec]\n",
            "Step: 143 / Error: 27230.910880 [18.6 sec]\n",
            "Step: 144 / Error: 27149.751513 [18.5 sec]\n",
            "Step: 145 / Error: 27150.513624 [18.4 sec]\n",
            "Step: 146 / Error: 27195.561656 [18.2 sec]\n",
            "Step: 147 / Error: 27308.984117 [18.2 sec]\n",
            "Step: 148 / Error: 27144.920668 [18.1 sec]\n",
            "Step: 149 / Error: 27225.102713 [18.5 sec]\n"
          ]
        }
      ]
    },
    {
      "cell_type": "code",
      "metadata": {
        "id": "aflR88Ypf03V",
        "colab": {
          "base_uri": "https://localhost:8080/"
        },
        "outputId": "ea7ba812-8762-4835-f4dc-79d30397df4c"
      },
      "source": [
        "pred_rating"
      ],
      "execution_count": 19,
      "outputs": [
        {
          "output_type": "execute_result",
          "data": {
            "text/plain": [
              "array([[3.98590287, 3.56559202, 2.36669315, ..., 4.6081928 , 4.15996914,\n",
              "        2.09074851],\n",
              "       [3.93110095, 3.97524066, 2.00733114, ..., 3.17426514, 3.4548574 ,\n",
              "        2.99509496],\n",
              "       [4.31964347, 3.83933666, 2.94335065, ..., 2.5281691 , 3.33860187,\n",
              "        0.23766795],\n",
              "       ...,\n",
              "       [4.31608793, 5.64012511, 3.13633536, ..., 3.74564034, 3.84568242,\n",
              "        6.13557168],\n",
              "       [5.35043158, 6.57456757, 2.94815603, ..., 3.72456979, 5.89629421,\n",
              "        6.2984602 ],\n",
              "       [5.68693954, 6.01020886, 5.7645435 , ..., 6.27332263, 6.26117799,\n",
              "        3.79260687]])"
            ]
          },
          "metadata": {},
          "execution_count": 19
        }
      ]
    },
    {
      "cell_type": "markdown",
      "metadata": {
        "id": "9iDKhcpEnK8X"
      },
      "source": [
        "### 予測評価値の計算・レコメンド"
      ]
    },
    {
      "cell_type": "code",
      "metadata": {
        "id": "iRKo2k18mVrA",
        "colab": {
          "base_uri": "https://localhost:8080/"
        },
        "outputId": "33f832e8-e6e2-403c-e8b6-cc61af9fee06"
      },
      "source": [
        "user_id = 1\n",
        "hits = 0\n",
        "\n",
        "# ユーザが既に評価したアイテムのスコアはゼロに直す\n",
        "rating_matrix_user = rating_matrix_item[:, user_id - 1]\n",
        "pred_rating_user_item = rating_matrix_user * rating_matrix_train[:,user_id - 1]\n",
        "\n",
        "#ここからレコメンドされたアイテムがどれだけあっていたかを評価していく\n",
        "recommend_list = np.argsort(pred_rating_user_item)[::-1][:10] + 1\n",
        "purchase_list_user = u_data_test[u_data_test.user_id == user_id].loc[:, 'item_id'].unique()\n",
        "for item_id in recommend_list:\n",
        "    if item_id in purchase_list_user:\n",
        "              hits += 1\n",
        "              pre = hits / 10.0\n",
        "\n",
        "              print(pred_rating_user_item)\n",
        "              print('Recommend list:', recommend_list)\n",
        "              print('Test Rated list:', purchase_list_user)\n",
        "              print('Precision:', str(pre))\n",
        "              hits += 1\n",
        "pre = hits / 10.0\n",
        "\n",
        "print(pred_rating_user_item)\n",
        "print('Recommend list:', recommend_list)\n",
        "print('Test Rated list:', purchase_list_user)\n",
        "print('Precision:', str(pre))"
      ],
      "execution_count": 32,
      "outputs": [
        {
          "output_type": "stream",
          "name": "stdout",
          "text": [
            "[0. 0. 0. ... 0. 0. 0.]\n",
            "Recommend list: [1682  578  554  555  556  557  558  559  560  561]\n",
            "Test Rated list: [ 20  33  61 117 155 160 171 189 202 265]\n",
            "Precision: 0.0\n"
          ]
        }
      ]
    },
    {
      "cell_type": "markdown",
      "metadata": {
        "id": "y2lZe0WmuXYW"
      },
      "source": [
        "#### 全体の精度評価"
      ]
    },
    {
      "cell_type": "code",
      "metadata": {
        "id": "go2TPWVfrJgm",
        "colab": {
          "base_uri": "https://localhost:8080/"
        },
        "outputId": "b62f61ea-2f36-4247-d545-a5cddac29840"
      },
      "source": [
        "# 予測評価値の計算\n",
        "precision_list = []\n",
        "recall_list = []\n",
        "user_list_test = u_data_test.sort_values('user_id').user_id.unique()\n",
        "\n",
        "for user_id in tqdm(user_list_test):\n",
        "    hits = 0\n",
        "    # ユーザが既に評価したアイテムのスコアはゼロに直す\n",
        "    pred_rating_user_item = rating_matrix_user * rating_matrix_train[:,user_id - 1]\n",
        "\n",
        "    #ここからレコメンドされたアイテムがどれだけあっていたかを評価していく\n",
        "    recommend_list = np.argsort(pred_rating_user_item)[::-1][:10] + 1\n",
        "    purchase_list_user = u_data_test[u_data_test.user_id == user_id].loc[:, 'item_id'].unique()\n",
        "    for item_id in recommend_list:\n",
        "        if item_id in purchase_list_user:\n",
        "            hits += 1\n",
        "    pre = hits / 10.0\n",
        "    precision_list.append(pre)\n"
      ],
      "execution_count": 17,
      "outputs": [
        {
          "output_type": "stream",
          "name": "stderr",
          "text": [
            "100%|██████████| 943/943 [00:00<00:00, 1144.07it/s]\n"
          ]
        }
      ]
    },
    {
      "cell_type": "code",
      "metadata": {
        "id": "eyBnn0rUrJnA",
        "colab": {
          "base_uri": "https://localhost:8080/"
        },
        "outputId": "b6af52b0-0f38-4a39-8db5-4cd053437299"
      },
      "source": [
        "# 全体の精度検証\n",
        "precision = sum(precision_list) / len(precision_list)\n",
        "print('Precision:', precision)"
      ],
      "execution_count": 18,
      "outputs": [
        {
          "output_type": "stream",
          "name": "stdout",
          "text": [
            "Precision: 0.05121951219512226\n"
          ]
        }
      ]
    },
    {
      "cell_type": "code",
      "metadata": {
        "id": "seYT0568eOch"
      },
      "source": [
        ""
      ],
      "execution_count": null,
      "outputs": []
    }
  ]
}