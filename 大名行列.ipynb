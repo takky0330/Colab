{
  "nbformat": 4,
  "nbformat_minor": 0,
  "metadata": {
    "colab": {
      "name": "大名行列.ipynb",
      "provenance": [],
      "authorship_tag": "ABX9TyMxye6dibtMpjyOjiuRSItJ",
      "include_colab_link": true
    },
    "kernelspec": {
      "name": "python3",
      "display_name": "Python 3"
    }
  },
  "cells": [
    {
      "cell_type": "markdown",
      "metadata": {
        "id": "view-in-github",
        "colab_type": "text"
      },
      "source": [
        "<a href=\"https://colab.research.google.com/github/takky0330/Colab/blob/main/%E5%A4%A7%E5%90%8D%E8%A1%8C%E5%88%97.ipynb\" target=\"_parent\"><img src=\"https://colab.research.google.com/assets/colab-badge.svg\" alt=\"Open In Colab\"/></a>"
      ]
    },
    {
      "cell_type": "markdown",
      "metadata": {
        "id": "Bu-OaBoH9lyW"
      },
      "source": [
        "# **＃準備**"
      ]
    },
    {
      "cell_type": "code",
      "metadata": {
        "id": "Q1QJNDT74r6G"
      },
      "source": [
        "from PIL import Image, ImageDraw, ImageFont\n",
        "import numpy as np\n",
        "from scipy import linalg"
      ],
      "execution_count": 1,
      "outputs": []
    },
    {
      "cell_type": "code",
      "metadata": {
        "id": "SWM6r8js4yxQ",
        "outputId": "fa06a1b2-56dd-478f-a0bd-27f71c4d6770",
        "colab": {
          "base_uri": "https://localhost:8080/"
        }
      },
      "source": [
        "!apt-get -y install fonts-ipafont-gothic"
      ],
      "execution_count": 2,
      "outputs": [
        {
          "output_type": "stream",
          "text": [
            "Reading package lists... Done\n",
            "Building dependency tree       \n",
            "Reading state information... Done\n",
            "The following additional packages will be installed:\n",
            "  fonts-ipafont-mincho\n",
            "The following NEW packages will be installed:\n",
            "  fonts-ipafont-gothic fonts-ipafont-mincho\n",
            "0 upgraded, 2 newly installed, 0 to remove and 21 not upgraded.\n",
            "Need to get 8,251 kB of archives.\n",
            "After this operation, 28.7 MB of additional disk space will be used.\n",
            "Get:1 http://archive.ubuntu.com/ubuntu bionic/universe amd64 fonts-ipafont-gothic all 00303-18ubuntu1 [3,526 kB]\n",
            "Get:2 http://archive.ubuntu.com/ubuntu bionic/universe amd64 fonts-ipafont-mincho all 00303-18ubuntu1 [4,725 kB]\n",
            "Fetched 8,251 kB in 2s (4,731 kB/s)\n",
            "Selecting previously unselected package fonts-ipafont-gothic.\n",
            "(Reading database ... 144611 files and directories currently installed.)\n",
            "Preparing to unpack .../fonts-ipafont-gothic_00303-18ubuntu1_all.deb ...\n",
            "Unpacking fonts-ipafont-gothic (00303-18ubuntu1) ...\n",
            "Selecting previously unselected package fonts-ipafont-mincho.\n",
            "Preparing to unpack .../fonts-ipafont-mincho_00303-18ubuntu1_all.deb ...\n",
            "Unpacking fonts-ipafont-mincho (00303-18ubuntu1) ...\n",
            "Setting up fonts-ipafont-gothic (00303-18ubuntu1) ...\n",
            "update-alternatives: using /usr/share/fonts/opentype/ipafont-gothic/ipag.ttf to provide /usr/share/fonts/truetype/fonts-japanese-gothic.ttf (fonts-japanese-gothic.ttf) in auto mode\n",
            "Setting up fonts-ipafont-mincho (00303-18ubuntu1) ...\n",
            "update-alternatives: using /usr/share/fonts/opentype/ipafont-mincho/ipam.ttf to provide /usr/share/fonts/truetype/fonts-japanese-mincho.ttf (fonts-japanese-mincho.ttf) in auto mode\n",
            "Processing triggers for fontconfig (2.12.6-0ubuntu2) ...\n"
          ],
          "name": "stdout"
        }
      ]
    },
    {
      "cell_type": "code",
      "metadata": {
        "id": "4kkoECg243Gy"
      },
      "source": [
        "fpath='/usr/share/fonts/opentype/ipafont-gothic/ipagp.ttf'\n",
        "fontsize = 50\n",
        "font = ImageFont.truetype(fpath, fontsize)"
      ],
      "execution_count": 3,
      "outputs": []
    },
    {
      "cell_type": "markdown",
      "metadata": {
        "id": "XLDw7b7f9sBi"
      },
      "source": [
        "# **＃元画像（**\"大名行列.png\"）の生成"
      ]
    },
    {
      "cell_type": "code",
      "metadata": {
        "id": "71fbvG_S48A1",
        "outputId": "ca9a6895-5837-4795-839a-d62a635c6817",
        "colab": {
          "base_uri": "https://localhost:8080/",
          "height": 67
        }
      },
      "source": [
        "LX = 200\n",
        "LY = fontsize\n",
        "img  = Image.new('L', (LX,LY),color=255)\n",
        "draw = ImageDraw.Draw(img)\n",
        "draw.text((0,0), \"大名行列\", fill=0, font=font)\n",
        "img"
      ],
      "execution_count": 4,
      "outputs": [
        {
          "output_type": "execute_result",
          "data": {
            "image/png": "[encoded data removed]",
            "text/plain": [
              "<PIL.Image.Image image mode=L size=200x50 at 0x7F372DBF5630>"
            ]
          },
          "metadata": {
            "tags": []
          },
          "execution_count": 4
        }
      ]
    },
    {
      "cell_type": "code",
      "metadata": {
        "id": "HrfdmfDE4_pq"
      },
      "source": [
        "data = np.array(img.getdata()).reshape((LY,LX))"
      ],
      "execution_count": 5,
      "outputs": []
    },
    {
      "cell_type": "code",
      "metadata": {
        "id": "RfzX0nTu5DIe",
        "outputId": "390fb1f6-c7eb-45ba-bc80-8a6ffc750a95",
        "colab": {
          "base_uri": "https://localhost:8080/",
          "height": 67
        }
      },
      "source": [
        "Image.fromarray(np.uint8(data))"
      ],
      "execution_count": 6,
      "outputs": [
        {
          "output_type": "execute_result",
          "data": {
            "image/png": "[encoded data removed]",
            "text/plain": [
              "<PIL.Image.Image image mode=L size=200x50 at 0x7F37319C0F98>"
            ]
          },
          "metadata": {
            "tags": []
          },
          "execution_count": 6
        }
      ]
    },
    {
      "cell_type": "code",
      "metadata": {
        "id": "-f4m3K1S5ISk",
        "outputId": "159f9b42-b792-44fa-c746-827c1ab0a175",
        "colab": {
          "base_uri": "https://localhost:8080/"
        }
      },
      "source": [
        "np.linalg.matrix_rank(data) # => 47"
      ],
      "execution_count": 7,
      "outputs": [
        {
          "output_type": "execute_result",
          "data": {
            "text/plain": [
              "47"
            ]
          },
          "metadata": {
            "tags": []
          },
          "execution_count": 7
        }
      ]
    },
    {
      "cell_type": "code",
      "metadata": {
        "id": "sc2GexG15LSl"
      },
      "source": [
        "u, s, v = linalg.svd(data)"
      ],
      "execution_count": 8,
      "outputs": []
    },
    {
      "cell_type": "code",
      "metadata": {
        "id": "iV9wFV7n5OQk",
        "outputId": "95656e5d-155d-4636-fa88-4829101dd293",
        "colab": {
          "base_uri": "https://localhost:8080/"
        }
      },
      "source": [
        "print(f\"u: {u.shape}\")\n",
        "print(f\"s: {s.shape}\")\n",
        "print(f\"v: {v.shape}\")"
      ],
      "execution_count": 9,
      "outputs": [
        {
          "output_type": "stream",
          "text": [
            "u: (50, 50)\n",
            "s: (50,)\n",
            "v: (200, 200)\n"
          ],
          "name": "stdout"
        }
      ]
    },
    {
      "cell_type": "markdown",
      "metadata": {
        "id": "g8HKZqeS9-a7"
      },
      "source": [
        "# **＃特異値分解と圧縮（r=10）**"
      ]
    },
    {
      "cell_type": "code",
      "metadata": {
        "id": "Mi2J0sZ35Q3d"
      },
      "source": [
        "r = 10\n",
        "ur = u[:, :r]\n",
        "sr = np.diag(np.sqrt(s[:r]))\n",
        "vr = v[:r, :]\n",
        "A10 = ur @ sr\n",
        "B10 = sr @ vr"
      ],
      "execution_count": 10,
      "outputs": []
    },
    {
      "cell_type": "code",
      "metadata": {
        "id": "Ye2-A5Js5X8p",
        "outputId": "f841763b-f069-4180-df9e-3500087393e8",
        "colab": {
          "base_uri": "https://localhost:8080/"
        }
      },
      "source": [
        "print(f\"A10: {A10.shape}\")\n",
        "print(f\"B10: {B10.shape}\")\n",
        "print(f\"AB10: {(A10 @ B10).shape}\")"
      ],
      "execution_count": 11,
      "outputs": [
        {
          "output_type": "stream",
          "text": [
            "A10: (50, 10)\n",
            "B10: (10, 200)\n",
            "AB10: (50, 200)\n"
          ],
          "name": "stdout"
        }
      ]
    },
    {
      "cell_type": "code",
      "metadata": {
        "id": "Tgi5fgCZ5a3f",
        "outputId": "55d80d12-386f-49c5-f706-d45a55ee8054",
        "colab": {
          "base_uri": "https://localhost:8080/"
        }
      },
      "source": [
        "np.linalg.matrix_rank(A10 @ B10) # => 10"
      ],
      "execution_count": 12,
      "outputs": [
        {
          "output_type": "execute_result",
          "data": {
            "text/plain": [
              "10"
            ]
          },
          "metadata": {
            "tags": []
          },
          "execution_count": 12
        }
      ]
    },
    {
      "cell_type": "markdown",
      "metadata": {
        "id": "_3VwxF3a_Lb9"
      },
      "source": [
        "## ＃　圧縮率"
      ]
    },
    {
      "cell_type": "code",
      "metadata": {
        "id": "KzxJn2Zo5do8",
        "outputId": "ec023c44-4fb1-49d9-a176-835fe64bc2f6",
        "colab": {
          "base_uri": "https://localhost:8080/"
        }
      },
      "source": [
        "print((A10.size + B10.size)/data.size) "
      ],
      "execution_count": 13,
      "outputs": [
        {
          "output_type": "stream",
          "text": [
            "0.25\n"
          ],
          "name": "stdout"
        }
      ]
    },
    {
      "cell_type": "markdown",
      "metadata": {
        "id": "dktIUtal_d5x"
      },
      "source": [
        "## ＃　圧縮後（r=10）の Save"
      ]
    },
    {
      "cell_type": "code",
      "metadata": {
        "id": "5gxb49Dj5hTI",
        "outputId": "4cdc6ca2-0eb0-4610-8383-2513491394db",
        "colab": {
          "base_uri": "https://localhost:8080/",
          "height": 67
        }
      },
      "source": [
        "b10 = np.asarray(A10 @ B10)\n",
        "b10 = np.clip(b10, 0, 255)\n",
        "img10 = Image.fromarray(np.uint8(b10))\n",
        "img.save('大名行列10.jpg')\n",
        "img.save('大名行列10.png')\n",
        "img10.save('大名行列10.bmp')\n",
        "img10"
      ],
      "execution_count": 14,
      "outputs": [
        {
          "output_type": "execute_result",
          "data": {
            "image/png": "[encoded data removed]",
            "text/plain": [
              "<PIL.Image.Image image mode=L size=200x50 at 0x7F372CAF44E0>"
            ]
          },
          "metadata": {
            "tags": []
          },
          "execution_count": 14
        }
      ]
    },
    {
      "cell_type": "markdown",
      "metadata": {
        "id": "U40f5Y5E-18b"
      },
      "source": [
        "# **＃ 圧縮（r=3）**"
      ]
    },
    {
      "cell_type": "code",
      "metadata": {
        "id": "2_g28mDo5kNW"
      },
      "source": [
        "r = 3\n",
        "ur = u[:, :r]\n",
        "sr = np.diag(np.sqrt(s[:r]))\n",
        "vr = v[:r, :]\n",
        "A3 = ur @ sr\n",
        "B3 = sr @ vr\n",
        "b3 = np.asarray(A3 @ B3)\n",
        "b3 = np.clip(b3, 0, 255)"
      ],
      "execution_count": 15,
      "outputs": []
    },
    {
      "cell_type": "markdown",
      "metadata": {
        "id": "G2Hyb1A6_slm"
      },
      "source": [
        "## ＃　圧縮後（r=3）の Save"
      ]
    },
    {
      "cell_type": "code",
      "metadata": {
        "id": "85lzAvhI_4Wt",
        "outputId": "8069c9b8-236c-4238-a153-a3d0b37968de",
        "colab": {
          "base_uri": "https://localhost:8080/",
          "height": 67
        }
      },
      "source": [
        "img3 = Image.fromarray(np.uint8(b3))\n",
        "img.save('大名行列3.jpg')\n",
        "img.save('大名行列3.png')\n",
        "img3.save('大名行列3.bmp')\n",
        "img3"
      ],
      "execution_count": 16,
      "outputs": [
        {
          "output_type": "execute_result",
          "data": {
            "image/png": "[encoded data removed]",
            "text/plain": [
              "<PIL.Image.Image image mode=L size=200x50 at 0x7F372CAF41D0>"
            ]
          },
          "metadata": {
            "tags": []
          },
          "execution_count": 16
        }
      ]
    },
    {
      "cell_type": "markdown",
      "metadata": {
        "id": "uPMD3_aM_Vp9"
      },
      "source": [
        "## ＃　圧縮率"
      ]
    },
    {
      "cell_type": "code",
      "metadata": {
        "id": "KZjfUC_g9ViM",
        "outputId": "88ea9364-5a37-4d48-93c1-21aa345a410d",
        "colab": {
          "base_uri": "https://localhost:8080/"
        }
      },
      "source": [
        "print((A3.size + B3.size)/data.size)"
      ],
      "execution_count": 17,
      "outputs": [
        {
          "output_type": "stream",
          "text": [
            "0.075\n"
          ],
          "name": "stdout"
        }
      ]
    },
    {
      "cell_type": "markdown",
      "metadata": {
        "id": "R9UxZ4fEABul"
      },
      "source": [
        "## ＃　元画像の Save"
      ]
    },
    {
      "cell_type": "code",
      "metadata": {
        "id": "2MgD9K3A9GpJ",
        "outputId": "67891d8f-714c-43a7-a043-b75ae42fe89a",
        "colab": {
          "base_uri": "https://localhost:8080/",
          "height": 67
        }
      },
      "source": [
        "img.save('大名行列.jpg')\n",
        "img.save('大名行列.png')\n",
        "img.save('大名行列.bmp')\n",
        "img"
      ],
      "execution_count": 18,
      "outputs": [
        {
          "output_type": "execute_result",
          "data": {
            "image/png": "[encoded data removed]",
            "text/plain": [
              "<PIL.Image.Image image mode=L size=200x50 at 0x7F372DBF5630>"
            ]
          },
          "metadata": {
            "tags": []
          },
          "execution_count": 18
        }
      ]
    },
    {
      "cell_type": "code",
      "metadata": {
        "id": "C5-sCRflHNzg"
      },
      "source": [
        ""
      ],
      "execution_count": 18,
      "outputs": []
    },
    {
      "cell_type": "code",
      "metadata": {
        "id": "lNE8MRlYHOH3"
      },
      "source": [
        ""
      ],
      "execution_count": 18,
      "outputs": []
    },
    {
      "cell_type": "markdown",
      "metadata": {
        "id": "7nXDVvQZHOgW"
      },
      "source": [
        "# **＃ 確認**"
      ]
    },
    {
      "cell_type": "code",
      "metadata": {
        "id": "3XzS1vB-88R-",
        "outputId": "c1d24ca9-545f-4ece-998c-716f202fe69a",
        "colab": {
          "base_uri": "https://localhost:8080/",
          "height": 67
        }
      },
      "source": [
        "img"
      ],
      "execution_count": 19,
      "outputs": [
        {
          "output_type": "execute_result",
          "data": {
            "image/png": "[encoded data removed]",
            "text/plain": [
              "<PIL.Image.Image image mode=L size=200x50 at 0x7F372DBF5630>"
            ]
          },
          "metadata": {
            "tags": []
          },
          "execution_count": 19
        }
      ]
    },
    {
      "cell_type": "code",
      "metadata": {
        "id": "TtZpIlf6FchR",
        "outputId": "bbb2a8b3-f49a-4ddf-9706-1211039d86e1",
        "colab": {
          "base_uri": "https://localhost:8080/",
          "height": 67
        }
      },
      "source": [
        "img10"
      ],
      "execution_count": 20,
      "outputs": [
        {
          "output_type": "execute_result",
          "data": {
            "image/png": "[encoded data removed]",
            "text/plain": [
              "<PIL.Image.Image image mode=L size=200x50 at 0x7F372CAF44E0>"
            ]
          },
          "metadata": {
            "tags": []
          },
          "execution_count": 20
        }
      ]
    },
    {
      "cell_type": "code",
      "metadata": {
        "id": "i5d3OgtoGj1W",
        "outputId": "a8a7c34d-f236-45e9-fc56-b9fd1a83d6b5",
        "colab": {
          "base_uri": "https://localhost:8080/",
          "height": 67
        }
      },
      "source": [
        "img3"
      ],
      "execution_count": 21,
      "outputs": [
        {
          "output_type": "execute_result",
          "data": {
            "image/png": "[encoded data removed]",
            "text/plain": [
              "<PIL.Image.Image image mode=L size=200x50 at 0x7F372CAF41D0>"
            ]
          },
          "metadata": {
            "tags": []
          },
          "execution_count": 21
        }
      ]
    },
    {
      "cell_type": "markdown",
      "metadata": {
        "id": "AQLIPknJOfIC"
      },
      "source": [
        "## **＃ 圧縮率**\n",
        "### **おまけ… 圧縮が一番小さい r=50 （圧縮できていない）場合の圧縮率も確認**"
      ]
    },
    {
      "cell_type": "code",
      "metadata": {
        "id": "2yjLpZOuI2M0",
        "outputId": "fd90eaec-b886-46c2-d005-cfc6390e4951",
        "colab": {
          "base_uri": "https://localhost:8080/"
        }
      },
      "source": [
        "print(\"r = 10 の 圧縮率 　：　\", (A10.size + B10.size)/data.size, \" %\") \n",
        "print(\"r =   3 の 圧縮率 　：　\", (A3.size + B3.size)/data.size, \" %\") \n",
        "r = 50\n",
        "ur = u[:, :r]\n",
        "sr = np.diag(np.sqrt(s[:r]))\n",
        "vr = v[:r, :]\n",
        "A50 = ur @ sr\n",
        "B50 = sr @ vr\n",
        "print(\"r = 50 の 圧縮率 　：　\", (A50.size + B50.size)/data.size, \" %　　　# 増えてる…\") \n",
        "r = 47\n",
        "ur = u[:, :r]\n",
        "sr = np.diag(np.sqrt(s[:r]))\n",
        "vr = v[:r, :]\n",
        "A47 = ur @ sr\n",
        "B47 = sr @ vr\n",
        "print(\"r = 47 の 圧縮率 　：　\", (A47.size + B47.size)/data.size, \" %　　　# 増えてる…\") \n",
        "r = 40\n",
        "ur = u[:, :r]\n",
        "sr = np.diag(np.sqrt(s[:r]))\n",
        "vr = v[:r, :]\n",
        "A40 = ur @ sr\n",
        "B40 = sr @ vr\n",
        "print(\"r = 40 の 圧縮率 　：　\", (A40.size + B40.size)/data.size, \" %　　　# 増えてない…\") "
      ],
      "execution_count": 31,
      "outputs": [
        {
          "output_type": "stream",
          "text": [
            "r = 10 の 圧縮率 　：　 0.25  %\n",
            "r =   3 の 圧縮率 　：　 0.075  %\n",
            "r = 50 の 圧縮率 　：　 1.25  %　　　# 増えてる…\n",
            "r = 47 の 圧縮率 　：　 1.175  %　　　# 増えてる…\n",
            "r = 40 の 圧縮率 　：　 1.0  %　　　# 増えてない…\n"
          ],
          "name": "stdout"
        }
      ]
    },
    {
      "cell_type": "markdown",
      "metadata": {
        "id": "czXwmv1CPsZy"
      },
      "source": [
        "###　r=50 の時の画像"
      ]
    },
    {
      "cell_type": "code",
      "metadata": {
        "id": "ClhH6a8pLz9v",
        "outputId": "81280d7d-956c-45e7-eded-f2ec7fe9d4f0",
        "colab": {
          "base_uri": "https://localhost:8080/",
          "height": 67
        }
      },
      "source": [
        "b50 = np.asarray(A50 @ B50)\n",
        "b50 = np.clip(b50, 0, 255)\n",
        "Image.fromarray(np.uint8(b50))"
      ],
      "execution_count": 23,
      "outputs": [
        {
          "output_type": "execute_result",
          "data": {
            "image/png": "[encoded data removed]",
            "text/plain": [
              "<PIL.Image.Image image mode=L size=200x50 at 0x7F372CAF4D68>"
            ]
          },
          "metadata": {
            "tags": []
          },
          "execution_count": 23
        }
      ]
    },
    {
      "cell_type": "markdown",
      "metadata": {
        "id": "hfz0bdX7VcCF"
      },
      "source": [
        "###　r=40 の時の画像"
      ]
    },
    {
      "cell_type": "code",
      "metadata": {
        "id": "Co-Dr91LVMWg",
        "outputId": "2172dd5a-99d7-494d-9f5b-35d44fdeb2a3",
        "colab": {
          "base_uri": "https://localhost:8080/",
          "height": 67
        }
      },
      "source": [
        "b40 = np.asarray(A40 @ B40)\n",
        "b40 = np.clip(b40, 0, 255)\n",
        "Image.fromarray(np.uint8(b40))"
      ],
      "execution_count": 32,
      "outputs": [
        {
          "output_type": "execute_result",
          "data": {
            "image/png": "[encoded data removed]",
            "text/plain": [
              "<PIL.Image.Image image mode=L size=200x50 at 0x7F372CB15860>"
            ]
          },
          "metadata": {
            "tags": []
          },
          "execution_count": 32
        }
      ]
    },
    {
      "cell_type": "markdown",
      "metadata": {
        "id": "TDELCEnrPzsA"
      },
      "source": [
        "## **＃ データサイズ**"
      ]
    },
    {
      "cell_type": "code",
      "metadata": {
        "id": "wRbmFUwWH9Fu",
        "outputId": "430ebe39-e5e3-4c36-8e5c-2f1dcb0a8f19",
        "colab": {
          "base_uri": "https://localhost:8080/"
        }
      },
      "source": [
        "import sys\n",
        "print(\"元画像 : \", data.size)\n",
        "print(\"r = 10 : \", b10.size)\n",
        "print(\"r =   3 : \", b3.size)"
      ],
      "execution_count": 24,
      "outputs": [
        {
          "output_type": "stream",
          "text": [
            "元画像 :  10000\n",
            "r = 10 :  10000\n",
            "r =   3 :  10000\n"
          ],
          "name": "stdout"
        }
      ]
    },
    {
      "cell_type": "markdown",
      "metadata": {
        "id": "4ieA5ea7P5Ql"
      },
      "source": [
        "## **＃ ファイルサイズ**"
      ]
    },
    {
      "cell_type": "code",
      "metadata": {
        "id": "VJLh8aJD5_hd",
        "outputId": "8e1b51c7-94de-42ea-cc6b-31b7717a6fab",
        "colab": {
          "base_uri": "https://localhost:8080/"
        }
      },
      "source": [
        "!ls -al | grep 大名行列"
      ],
      "execution_count": 25,
      "outputs": [
        {
          "output_type": "stream",
          "text": [
            "-rw-r--r-- 1 root root 11078 Oct 29 07:18 大名行列10.bmp\n",
            "-rw-r--r-- 1 root root  3387 Oct 29 07:18 大名行列10.jpg\n",
            "-rw-r--r-- 1 root root  1919 Oct 29 07:18 大名行列10.png\n",
            "-rw-r--r-- 1 root root 11078 Oct 29 07:18 大名行列3.bmp\n",
            "-rw-r--r-- 1 root root  3387 Oct 29 07:18 大名行列3.jpg\n",
            "-rw-r--r-- 1 root root  1919 Oct 29 07:18 大名行列3.png\n",
            "-rw-r--r-- 1 root root 11078 Oct 29 07:18 大名行列.bmp\n",
            "-rw-r--r-- 1 root root  3387 Oct 29 07:18 大名行列.jpg\n",
            "-rw-r--r-- 1 root root  1919 Oct 29 07:18 大名行列.png\n"
          ],
          "name": "stdout"
        }
      ]
    },
    {
      "cell_type": "code",
      "metadata": {
        "id": "i4qwGU_NGlJG"
      },
      "source": [
        ""
      ],
      "execution_count": 25,
      "outputs": []
    },
    {
      "cell_type": "code",
      "metadata": {
        "id": "2i6zduchW-G6"
      },
      "source": [
        ""
      ],
      "execution_count": null,
      "outputs": []
    },
    {
      "cell_type": "markdown",
      "metadata": {
        "id": "z8WXgKOuerXI"
      },
      "source": [
        "# **文字を変えてランクを調べてみる！**"
      ]
    },
    {
      "cell_type": "code",
      "metadata": {
        "id": "Qp2kzZj4W-SU",
        "outputId": "0aada1d9-66da-4656-8d50-4796e69eeb27",
        "colab": {
          "base_uri": "https://localhost:8080/",
          "height": 67
        }
      },
      "source": [
        "LX = 200\n",
        "LY = fontsize\n",
        "img  = Image.new('L', (LX,LY),color=255)\n",
        "draw = ImageDraw.Draw(img)\n",
        "draw.text((0,0), \"一一一一\", fill=0, font=font)\n",
        "img"
      ],
      "execution_count": 37,
      "outputs": [
        {
          "output_type": "execute_result",
          "data": {
            "image/png": "[encoded data removed]",
            "text/plain": [
              "<PIL.Image.Image image mode=L size=200x50 at 0x7F372A266390>"
            ]
          },
          "metadata": {
            "tags": []
          },
          "execution_count": 37
        }
      ]
    },
    {
      "cell_type": "code",
      "metadata": {
        "id": "HJo1rphOXCgJ"
      },
      "source": [
        "data1 = np.array(img.getdata()).reshape((LY,LX))"
      ],
      "execution_count": 38,
      "outputs": []
    },
    {
      "cell_type": "code",
      "metadata": {
        "id": "l9Og1Uw5XHC9",
        "outputId": "8dc31fae-93be-4fe0-cce1-3270174735de",
        "colab": {
          "base_uri": "https://localhost:8080/",
          "height": 67
        }
      },
      "source": [
        "Image.fromarray(np.uint8(data1))"
      ],
      "execution_count": 39,
      "outputs": [
        {
          "output_type": "execute_result",
          "data": {
            "image/png": "[encoded data removed]",
            "text/plain": [
              "<PIL.Image.Image image mode=L size=200x50 at 0x7F372CB15978>"
            ]
          },
          "metadata": {
            "tags": []
          },
          "execution_count": 39
        }
      ]
    },
    {
      "cell_type": "code",
      "metadata": {
        "id": "jtjUqlYgXK5e",
        "outputId": "285e89d1-ee95-4fce-f0f0-3d16f4564f3d",
        "colab": {
          "base_uri": "https://localhost:8080/"
        }
      },
      "source": [
        "np.linalg.matrix_rank(data1) "
      ],
      "execution_count": 40,
      "outputs": [
        {
          "output_type": "execute_result",
          "data": {
            "text/plain": [
              "2"
            ]
          },
          "metadata": {
            "tags": []
          },
          "execution_count": 40
        }
      ]
    },
    {
      "cell_type": "code",
      "metadata": {
        "id": "3jWo5NW8Yh-c"
      },
      "source": [
        ""
      ],
      "execution_count": null,
      "outputs": []
    }
  ]
}